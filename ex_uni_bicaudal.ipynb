{
 "cells": [
  {
   "cell_type": "markdown",
   "id": "f0b6ec2d",
   "metadata": {},
   "source": [
    "# Resolvendo exercícios adaptados do livro \"Estatística Aplicada à Administração e Economia\", utilizando a linguagem Python."
   ]
  },
  {
   "cell_type": "code",
   "execution_count": 1,
   "id": "3ee93582",
   "metadata": {},
   "outputs": [
    {
     "data": {
      "text/html": [
       "<img src=\"stats.jpg\" width=\"300\" height=\"300\"/>"
      ],
      "text/plain": [
       "<IPython.core.display.Image object>"
      ]
     },
     "execution_count": 1,
     "metadata": {},
     "output_type": "execute_result"
    }
   ],
   "source": [
    "from IPython.display import Image\n",
    "import pandas as pd\n",
    "import numpy as np\n",
    "from math import sqrt  \n",
    "from scipy.stats import norm\n",
    "import matplotlib.pyplot as plt\n",
    "Image(url=\"stats.jpg\", width=300, height=300)"
   ]
  },
  {
   "cell_type": "markdown",
   "id": "061fc9bf",
   "metadata": {},
   "source": [
    "# Teste Unicaudal - Exercícios Básicos"
   ]
  },
  {
   "cell_type": "markdown",
   "id": "f544ff8b",
   "metadata": {},
   "source": [
    "### Ex:001"
   ]
  },
  {
   "cell_type": "markdown",
   "id": "1bfa0ed9",
   "metadata": {},
   "source": [
    "Considere o seguinte teste de hipóteses:\n",
    "    \n",
    "    H0: µ ≥ 10\n",
    "    H1: µ < 10\n",
    "Uma amostra com n = 50 fornece uma média de amostra de 9.45 w um desvio-padrão da amostra de 2."
   ]
  },
  {
   "cell_type": "markdown",
   "id": "d28e0165",
   "metadata": {},
   "source": [
    "##### Letra A. Com α = 0.05, qual é o valor crítico para Z? Qual é a regra de rejeição?"
   ]
  },
  {
   "cell_type": "markdown",
   "id": "727b5ec5",
   "metadata": {},
   "source": [
    "Trata-se de um teste unicaudal com intervalo de confiança de 0.95 no qual o Z crítico será -1.64"
   ]
  },
  {
   "cell_type": "markdown",
   "id": "58bf7aab",
   "metadata": {},
   "source": [
    "##### Letra B. Calcule o valor da estátistica de teste Z. Qual é a sua conclusão?"
   ]
  },
  {
   "cell_type": "code",
   "execution_count": 2,
   "id": "42160170",
   "metadata": {},
   "outputs": [
    {
     "name": "stdout",
     "output_type": "stream",
     "text": [
      "-1.9445436482630083\n"
     ]
    }
   ],
   "source": [
    "z = (9.45-10)/ (2/sqrt(50))\n",
    "print(z)"
   ]
  },
  {
   "cell_type": "markdown",
   "id": "dfa8ed6a",
   "metadata": {},
   "source": [
    "Já que 1.94 é menor que -1.64 rejeitamos H0, média menor que 10"
   ]
  },
  {
   "cell_type": "markdown",
   "id": "9ea5009a",
   "metadata": {},
   "source": [
    "### EX:002"
   ]
  },
  {
   "cell_type": "markdown",
   "id": "02e121a7",
   "metadata": {},
   "source": [
    "Considere o seguinte teste de hipóteses.\n",
    "\n",
    "    H0: µ ≤ 15\n",
    "    H1: µ > 15\n",
    "        \n",
    "Uma amostra de 40 fornece uma média de amostra de 16.5, e um desvio-padrão de 7."
   ]
  },
  {
   "cell_type": "markdown",
   "id": "59667e1c",
   "metadata": {},
   "source": [
    "##### Letra A. Com α = 0.02, qual é o valor crítico para Z e qual é a regra de rejeição?"
   ]
  },
  {
   "cell_type": "markdown",
   "id": "d2716fa5",
   "metadata": {},
   "source": [
    "Trata-se de um teste uniacaudal a direita com intervalo de confiança de 0.98 no qual o Z crítico será de 2.06, a regra de rejeição é se o valor Z for maior que o Z crítico rejeitaremos H0."
   ]
  },
  {
   "cell_type": "markdown",
   "id": "618a54fd",
   "metadata": {},
   "source": [
    "##### Letra B. Calcule o valor da estatística de teste Z"
   ]
  },
  {
   "cell_type": "code",
   "execution_count": 3,
   "id": "4662b532",
   "metadata": {},
   "outputs": [
    {
     "name": "stdout",
     "output_type": "stream",
     "text": [
      "1.355261854357877\n"
     ]
    }
   ],
   "source": [
    "z = (16.5-15)/(7/sqrt(40))\n",
    "print(z)"
   ]
  },
  {
   "cell_type": "code",
   "execution_count": 4,
   "id": "eda96c7a",
   "metadata": {},
   "outputs": [
    {
     "data": {
      "text/plain": [
       "True"
      ]
     },
     "execution_count": 4,
     "metadata": {},
     "output_type": "execute_result"
    }
   ],
   "source": [
    "z <= 2.06"
   ]
  },
  {
   "cell_type": "markdown",
   "id": "3585b236",
   "metadata": {},
   "source": [
    "##### Letra C: Qual é o value-p?"
   ]
  },
  {
   "cell_type": "code",
   "execution_count": 5,
   "id": "d9e8232a",
   "metadata": {},
   "outputs": [
    {
     "name": "stdout",
     "output_type": "stream",
     "text": [
      "0.08766707188830036\n"
     ]
    }
   ],
   "source": [
    "p_valor = norm.sf(z)\n",
    "print(p_valor)"
   ]
  },
  {
   "cell_type": "markdown",
   "id": "da0c35ae",
   "metadata": {},
   "source": [
    "##### Letra D: Qual é a sua Conclusão?"
   ]
  },
  {
   "cell_type": "markdown",
   "id": "68dc37c7",
   "metadata": {},
   "source": [
    "Como o Z é menor que o Z crítico e o valor-p é maior que 0.05 não aceitamos H0 ou seja média menor ou igual a 15."
   ]
  },
  {
   "cell_type": "markdown",
   "id": "c4f3d88c",
   "metadata": {},
   "source": [
    "### EX:003"
   ]
  },
  {
   "cell_type": "markdown",
   "id": "843327d9",
   "metadata": {},
   "source": [
    "Considere o seguinte teste de hipóteses.\n",
    "\n",
    "    H0: µ<= 25\n",
    "    H1: µ < 25\n",
    "\n",
    "Uma amostra de 100 é utilizada e o desvio-padrão da população é 12. Forneça o valor da estatística de teste Z e sua conclusão para cada um dos seguintes resultados da amostra. Use α = 0.05"
   ]
  },
  {
   "cell_type": "markdown",
   "id": "d440c236",
   "metadata": {},
   "source": [
    "Z Crítico = -1.64"
   ]
  },
  {
   "cell_type": "markdown",
   "id": "94d90c19",
   "metadata": {},
   "source": [
    "##### Letra A: Média = 22"
   ]
  },
  {
   "cell_type": "code",
   "execution_count": 6,
   "id": "9d083b10",
   "metadata": {},
   "outputs": [
    {
     "name": "stdout",
     "output_type": "stream",
     "text": [
      "-2.5\n"
     ]
    }
   ],
   "source": [
    "z = (22-25)/(12/sqrt(100))\n",
    "print(z)"
   ]
  },
  {
   "cell_type": "markdown",
   "id": "8e2bf0ff",
   "metadata": {},
   "source": [
    "Rejeita H0"
   ]
  },
  {
   "cell_type": "markdown",
   "id": "7897d17c",
   "metadata": {},
   "source": [
    "##### Letra B: Média = 24"
   ]
  },
  {
   "cell_type": "code",
   "execution_count": 7,
   "id": "2d5183f2",
   "metadata": {},
   "outputs": [
    {
     "name": "stdout",
     "output_type": "stream",
     "text": [
      "-0.8333333333333334\n"
     ]
    }
   ],
   "source": [
    "z = (24-25)/(12/sqrt(100))\n",
    "print(z)"
   ]
  },
  {
   "cell_type": "markdown",
   "id": "99735d70",
   "metadata": {},
   "source": [
    "Aceita H0"
   ]
  },
  {
   "cell_type": "markdown",
   "id": "547ed602",
   "metadata": {},
   "source": [
    "##### Letra C: Média = 23.5"
   ]
  },
  {
   "cell_type": "code",
   "execution_count": 8,
   "id": "9ca949de",
   "metadata": {},
   "outputs": [
    {
     "name": "stdout",
     "output_type": "stream",
     "text": [
      "-1.25\n"
     ]
    }
   ],
   "source": [
    "z = (23.5-25)/(12/sqrt(100))\n",
    "print(z)"
   ]
  },
  {
   "cell_type": "markdown",
   "id": "5357480d",
   "metadata": {},
   "source": [
    "Aceita H0"
   ]
  },
  {
   "cell_type": "markdown",
   "id": "7081b491",
   "metadata": {},
   "source": [
    "##### Letra D: Média = 22.8"
   ]
  },
  {
   "cell_type": "code",
   "execution_count": 9,
   "id": "a3763ba3",
   "metadata": {},
   "outputs": [
    {
     "name": "stdout",
     "output_type": "stream",
     "text": [
      "-1.8333333333333328\n"
     ]
    }
   ],
   "source": [
    "z = (22.8-25)/(12/sqrt(100))\n",
    "print(z)"
   ]
  },
  {
   "cell_type": "markdown",
   "id": "6cadfbc5",
   "metadata": {},
   "source": [
    "Rejeita H0"
   ]
  },
  {
   "cell_type": "markdown",
   "id": "9ff0f333",
   "metadata": {},
   "source": [
    "### EX: 004"
   ]
  },
  {
   "cell_type": "markdown",
   "id": "87e4e4ce",
   "metadata": {},
   "source": [
    "Considere o seguinte teste de Hipóteses:\n",
    "    \n",
    "    H0: µ ≤ 5\n",
    "    H1: µ > 5\n",
    "        \n",
    "Considere as seguintes estátisticas de teste. Calcule os correspondentes valores p e tire as apropriadas conclusões baseadas em α = 0.05 "
   ]
  },
  {
   "cell_type": "markdown",
   "id": "c86180c3",
   "metadata": {},
   "source": [
    "##### Letra A: Z = 1.82"
   ]
  },
  {
   "cell_type": "code",
   "execution_count": 10,
   "id": "d97452ef",
   "metadata": {},
   "outputs": [
    {
     "name": "stdout",
     "output_type": "stream",
     "text": [
      "0.03437950244588998\n"
     ]
    }
   ],
   "source": [
    "p_valor = norm.sf(1.82)\n",
    "print(p_valor)"
   ]
  },
  {
   "cell_type": "markdown",
   "id": "3ac5186f",
   "metadata": {},
   "source": [
    "Rejeita H0"
   ]
  },
  {
   "cell_type": "markdown",
   "id": "ff9b64cd",
   "metadata": {},
   "source": [
    "##### Letra B: Z = 0.45"
   ]
  },
  {
   "cell_type": "code",
   "execution_count": 11,
   "id": "b66b1a07",
   "metadata": {},
   "outputs": [
    {
     "name": "stdout",
     "output_type": "stream",
     "text": [
      "0.32635522028791997\n"
     ]
    }
   ],
   "source": [
    "p_valor = norm.sf(0.45)\n",
    "print(p_valor)"
   ]
  },
  {
   "cell_type": "markdown",
   "id": "15e9e6a0",
   "metadata": {},
   "source": [
    "Aceita H0"
   ]
  },
  {
   "cell_type": "markdown",
   "id": "b78b4500",
   "metadata": {},
   "source": [
    "##### Letra C: Z = 1.50"
   ]
  },
  {
   "cell_type": "code",
   "execution_count": 12,
   "id": "a6025c75",
   "metadata": {},
   "outputs": [
    {
     "name": "stdout",
     "output_type": "stream",
     "text": [
      "0.06680720126885807\n"
     ]
    }
   ],
   "source": [
    "p_valor = norm.sf(1.50)\n",
    "print(p_valor)"
   ]
  },
  {
   "cell_type": "markdown",
   "id": "9c87430e",
   "metadata": {},
   "source": [
    "Aceita H0"
   ]
  },
  {
   "cell_type": "markdown",
   "id": "9fb63ada",
   "metadata": {},
   "source": [
    "##### Letra D: Z = 3.30\n"
   ]
  },
  {
   "cell_type": "code",
   "execution_count": 13,
   "id": "8a66744f",
   "metadata": {},
   "outputs": [
    {
     "name": "stdout",
     "output_type": "stream",
     "text": [
      "0.00048342414238377744\n"
     ]
    }
   ],
   "source": [
    "p_valor = norm.sf(3.30)\n",
    "print(p_valor)"
   ]
  },
  {
   "cell_type": "markdown",
   "id": "5a9c8a3f",
   "metadata": {},
   "source": [
    "Rejeita H0"
   ]
  },
  {
   "cell_type": "markdown",
   "id": "c739bec6",
   "metadata": {},
   "source": [
    "##### Letra E: Z = -1.00"
   ]
  },
  {
   "cell_type": "code",
   "execution_count": 14,
   "id": "4c1759f6",
   "metadata": {},
   "outputs": [
    {
     "name": "stdout",
     "output_type": "stream",
     "text": [
      "0.15865525393145707\n"
     ]
    }
   ],
   "source": [
    "p_valor = 1 - norm.sf(-1.00)\n",
    "print(p_valor)"
   ]
  },
  {
   "cell_type": "markdown",
   "id": "c680544c",
   "metadata": {},
   "source": [
    "Aceita H0"
   ]
  },
  {
   "cell_type": "markdown",
   "id": "e25b0f12",
   "metadata": {},
   "source": [
    "# Teste Unicaudal - Aplicações"
   ]
  },
  {
   "cell_type": "markdown",
   "id": "c6f4385b",
   "metadata": {},
   "source": [
    "### EX: 001"
   ]
  },
  {
   "cell_type": "markdown",
   "id": "df3ef147",
   "metadata": {},
   "source": [
    "Os americanos que deram entrada na declaração do imposto de renda de 1994 antes de 31 de março de 1995 têm uma restituição média de US$ 1.056. Considere a população de entregadores de \"última hora\" que despacharam suas declarações durante os últimos cinco dias do período de entrega do imposto de renda."
   ]
  },
  {
   "cell_type": "markdown",
   "id": "c12cee25",
   "metadata": {},
   "source": [
    "##### Letra A: Um pesquisador sugere que uma das razões para que os indivúduos esperem até os últimos cinco dias para entregar declarações é que na média eles têm uma restituição mais baixa do que os primeiros entregadores. Desenvolva hipóteses apropriadas tais que a rejeição de H0 confirme a alegação do pesquisador."
   ]
  },
  {
   "cell_type": "markdown",
   "id": "d4f32997",
   "metadata": {},
   "source": [
    "    H0 µ >= 1056\n",
    "    H1 µ < 1056"
   ]
  },
  {
   "cell_type": "markdown",
   "id": "55ed3ea6",
   "metadata": {},
   "source": [
    "##### Letra B: Para uma amostra de 400 indivíduos que entregaram a declaração entre 10 de abril e 15 de abril, a restituição média da amostra foi de 910 dolares e o desvio padrão da amostra foi de  1.600. dolares Com α = 0.05, qual é a sua conclusão?"
   ]
  },
  {
   "cell_type": "code",
   "execution_count": 15,
   "id": "f5bbaca7",
   "metadata": {},
   "outputs": [
    {
     "name": "stdout",
     "output_type": "stream",
     "text": [
      "-1.825\n"
     ]
    }
   ],
   "source": [
    "z_critico = -1.645\n",
    "z = (910-1056)/(1600/sqrt(400))\n",
    "print(z)"
   ]
  },
  {
   "cell_type": "markdown",
   "id": "ae395246",
   "metadata": {},
   "source": [
    "Rejeita H0"
   ]
  },
  {
   "cell_type": "markdown",
   "id": "e2130951",
   "metadata": {},
   "source": [
    "##### Letra C: Qual é o valor-p para o teste?"
   ]
  },
  {
   "cell_type": "code",
   "execution_count": 16,
   "id": "2bcfa5ee",
   "metadata": {},
   "outputs": [
    {
     "name": "stdout",
     "output_type": "stream",
     "text": [
      "0.03400051466982246\n"
     ]
    }
   ],
   "source": [
    "p_value = 1 - norm.sf(z)\n",
    "print(p_value)"
   ]
  },
  {
   "cell_type": "markdown",
   "id": "5a0b6aee",
   "metadata": {},
   "source": [
    "Rejeita H0"
   ]
  },
  {
   "cell_type": "markdown",
   "id": "a9441537",
   "metadata": {},
   "source": [
    "### EX:002"
   ]
  },
  {
   "cell_type": "markdown",
   "id": "4cd3e33d",
   "metadata": {},
   "source": [
    "Um levantamento da Nielsen forneceu a estimativa de que o número médio e horas gastas diante da televisão por família é de 7.25 horas dia. Considere que o levantamento da Nielsen envolveu 200 famílias e que o desvio-padrão da amostra foi de 2.5 horas por dia. Há dez anos o número médio de horas gastas diante da TV por família da população foi relatado como sendo 6.70 horas. Sendo µ = o número medio da população de horas gastas diante da televisão por família em 1997, teste as hipóteses H0: µ ≤ 6.70 e H1 µ > 6.70. Use α = 0.01. Qual é a conclusão sobre qualquer mudança no tempo gasto diante da televisão  "
   ]
  },
  {
   "cell_type": "markdown",
   "id": "63c025a2",
   "metadata": {},
   "source": [
    "    H0 µ ≤ 6.70\n",
    "    H1:µ > 6.70"
   ]
  },
  {
   "cell_type": "code",
   "execution_count": 17,
   "id": "cdb96c19",
   "metadata": {},
   "outputs": [
    {
     "name": "stdout",
     "output_type": "stream",
     "text": [
      "3.1112698372208083\n"
     ]
    }
   ],
   "source": [
    "z = (7.25-6.70)/(2.5/sqrt(200))\n",
    "print(z)"
   ]
  },
  {
   "cell_type": "code",
   "execution_count": 18,
   "id": "7b10e8c3",
   "metadata": {},
   "outputs": [
    {
     "name": "stdout",
     "output_type": "stream",
     "text": [
      "0.0009314231489909469\n"
     ]
    }
   ],
   "source": [
    "value_p = norm.sf(z)\n",
    "print(value_p)"
   ]
  },
  {
   "cell_type": "markdown",
   "id": "79e9000e",
   "metadata": {},
   "source": [
    "Rejeita H0, ou seja a quantidade de horas em frente TV aumentaram "
   ]
  },
  {
   "cell_type": "markdown",
   "id": "3c98a798",
   "metadata": {},
   "source": [
    "### EX: 002"
   ]
  },
  {
   "cell_type": "markdown",
   "id": "bad44bb9",
   "metadata": {},
   "source": [
    "De acordo com a National Automobile Association, o preço médio de carros usados nos Estados Unidos é 10.192 dolares. Um gerente de uma distribuidora de carros usados de Kansas City reviu uma amostra de 100 recentes vendas de carros usados na distribuidora. O preço médio da ammostra foi de 9300 reais e o desvio padrão da aostra foi de 4500. Se µ denota o preço médio da população para carros usados na distribuidora de Kansas City, teste H0 µ ≥ 10192 e H1 µ < 10192 com um nível de significancia de 0.05.\n",
    "\n",
    "    H0 µ ≥ 10.192\n",
    "    H1 µ < 10.192"
   ]
  },
  {
   "cell_type": "markdown",
   "id": "24a54bbb",
   "metadata": {},
   "source": [
    "##### Letra A: Qual é a conclusão de teste de hipóteses"
   ]
  },
  {
   "cell_type": "code",
   "execution_count": 19,
   "id": "02bc1a74",
   "metadata": {},
   "outputs": [
    {
     "name": "stdout",
     "output_type": "stream",
     "text": [
      "-1.9822222222222223\n"
     ]
    }
   ],
   "source": [
    "z_critico = -1.645\n",
    "z = (9300-10192)/(4500/sqrt(100))\n",
    "print(z)"
   ]
  },
  {
   "cell_type": "markdown",
   "id": "90ebc2d5",
   "metadata": {},
   "source": [
    "##### Letra B: Qual é o valor-p"
   ]
  },
  {
   "cell_type": "code",
   "execution_count": 20,
   "id": "3ed6d6e7",
   "metadata": {},
   "outputs": [
    {
     "name": "stdout",
     "output_type": "stream",
     "text": [
      "0.023727187288202223\n"
     ]
    }
   ],
   "source": [
    "value_p = 1 - norm.sf(z)\n",
    "print(value_p)"
   ]
  },
  {
   "cell_type": "markdown",
   "id": "fa5797e4",
   "metadata": {},
   "source": [
    "##### Letra C: Que informação o resultado do teste de hipóteses fornece para o gerente da distribuidora de Kansas City? Que ação de acompanhamento o gerente pode considerar?"
   ]
  },
  {
   "cell_type": "markdown",
   "id": "c86ba993",
   "metadata": {},
   "source": [
    "Resposta: Rejeitaremos a hipótese nula ou seja os carros estão sendo vendidos por um valor abaixo do mercado."
   ]
  },
  {
   "cell_type": "markdown",
   "id": "4b686b34",
   "metadata": {},
   "source": [
    "### EX: 003"
   ]
  },
  {
   "cell_type": "markdown",
   "id": "9481b630",
   "metadata": {},
   "source": [
    "Novos pneus fabricados por uma empresa em Findlay, Ohio,são projetados para fornecer uma média de pelo menos 28000 quilometros. Testes com 30 pneus aleatoriamente selecionados mostrou uma média de amostra de 27500 quilometros e um desvio-padrão da amostra de 1000 quilômetros. Usando um nível de significancia de 0.05, teste se há evidência suficiente para rejeitar a reivindicação de uma média de pelo menos 28000 quilometros. Qual é o valor p? "
   ]
  },
  {
   "cell_type": "markdown",
   "id": "2a24cd85",
   "metadata": {},
   "source": [
    "    H0 µ ≥ 28000\n",
    "    H1 µ < 28000"
   ]
  },
  {
   "cell_type": "code",
   "execution_count": 21,
   "id": "400535f6",
   "metadata": {},
   "outputs": [
    {
     "name": "stdout",
     "output_type": "stream",
     "text": [
      "Z valor = -2.7386127875258306\n",
      "\n",
      "\n",
      "P valor = 0.003\n"
     ]
    }
   ],
   "source": [
    "z_critico = -1.645\n",
    "\n",
    "z = (27500-28000)/(1000/sqrt(30))\n",
    "print(f'Z valor = {z}')\n",
    "\n",
    "print('\\n')\n",
    "\n",
    "p_value = 1 - norm.sf(z)\n",
    "print(f'P valor = {round(p_value,3)}')"
   ]
  },
  {
   "cell_type": "markdown",
   "id": "d7da334d",
   "metadata": {},
   "source": [
    "Rejeita H0, pneus rodam menos de 28000 Km"
   ]
  },
  {
   "cell_type": "markdown",
   "id": "ed85d52b",
   "metadata": {},
   "source": [
    "### EX: 003"
   ]
  },
  {
   "cell_type": "markdown",
   "id": "ac9222dc",
   "metadata": {},
   "source": [
    "Uma empresa paga atualmente a seus operários um salário médio de 15 dolares a hora. A empresa está planejando construir uma nova fábrica e está considerando diversos locais. A disponibilidade de mão-de-obra a uma taxa menor que 15 dolares por hora é um grande fator na decisão local. Para uma locação, uma amostra de 40 trabalhadores mostrou um salário horário médio anual de = 14 dolares e um desvio padrão da amostra de S = 2.40 dolares."
   ]
  },
  {
   "cell_type": "markdown",
   "id": "0623b1bf",
   "metadata": {},
   "source": [
    "    H0 µ >= 15\n",
    "    H1 µ < 15"
   ]
  },
  {
   "cell_type": "markdown",
   "id": "a109278c",
   "metadata": {},
   "source": [
    "##### Letra A: Com um nível de significância de 0.01, os dados da amostra indicam que o local tem uma taxa de salário médio significamente abaixo de 15 dólares por hora?"
   ]
  },
  {
   "cell_type": "code",
   "execution_count": 22,
   "id": "9a7fa0ba",
   "metadata": {},
   "outputs": [
    {
     "name": "stdout",
     "output_type": "stream",
     "text": [
      "-2.63523138347365\n"
     ]
    }
   ],
   "source": [
    "z_critico = -2.57\n",
    "z = (14-15)/(2.40/sqrt(40))\n",
    "print(z)"
   ]
  },
  {
   "cell_type": "markdown",
   "id": "21c344cd",
   "metadata": {},
   "source": [
    "##### Letra B: Qual é o valor P?"
   ]
  },
  {
   "cell_type": "code",
   "execution_count": 23,
   "id": "1f6fd3a5",
   "metadata": {},
   "outputs": [
    {
     "name": "stdout",
     "output_type": "stream",
     "text": [
      "0.004203997288624639\n"
     ]
    }
   ],
   "source": [
    "p_value = 1 - norm.sf(z)\n",
    "print(p_value)"
   ]
  },
  {
   "cell_type": "markdown",
   "id": "87fd6e48",
   "metadata": {},
   "source": [
    "Rejeitamos H0, ou seja o valor da hora é menor que 15 dolares"
   ]
  },
  {
   "cell_type": "markdown",
   "id": "95bd4e98",
   "metadata": {},
   "source": [
    "### EX 004"
   ]
  },
  {
   "cell_type": "markdown",
   "id": "20890f54",
   "metadata": {},
   "source": [
    "Um novo programa de dieta afirma que os participantes perderão em média pelo menos oito quilos durante a primeira semana do programa. Uma amostra aleatória de 40 pessoas participando no programa mostrou uma perda de peso médio de sete kilos. O desvio_padrão da amostra 3.2 quilos"
   ]
  },
  {
   "cell_type": "markdown",
   "id": "bce93a9b",
   "metadata": {},
   "source": [
    "##### Letra A: Qual foi a regra de rejeição com α = 0.05?"
   ]
  },
  {
   "cell_type": "markdown",
   "id": "c1086f1b",
   "metadata": {},
   "source": [
    "    H0 µ >= 8 \n",
    "    H1 µ < 8"
   ]
  },
  {
   "cell_type": "markdown",
   "id": "facd5cce",
   "metadata": {},
   "source": [
    "##### Letra B: Qual é a sua conclusão sobre a afirmação feita pelo programa de dieta?"
   ]
  },
  {
   "cell_type": "code",
   "execution_count": 24,
   "id": "d2638b50",
   "metadata": {},
   "outputs": [
    {
     "name": "stdout",
     "output_type": "stream",
     "text": [
      "-0.04941058844013092\n"
     ]
    }
   ],
   "source": [
    "z_critico = -1.64\n",
    "z = (7-8)/(3.2)/sqrt(40)\n",
    "print(z)"
   ]
  },
  {
   "cell_type": "markdown",
   "id": "19b1295c",
   "metadata": {},
   "source": [
    "Aceita H0, os participantes estão perdendo aproximadamente 8 Kg por semana."
   ]
  },
  {
   "cell_type": "markdown",
   "id": "1a9ff83b",
   "metadata": {},
   "source": [
    "##### Letra C: Qual é o valor-p"
   ]
  },
  {
   "cell_type": "code",
   "execution_count": 25,
   "id": "d4c89007",
   "metadata": {},
   "outputs": [
    {
     "name": "stdout",
     "output_type": "stream",
     "text": [
      "0.4802960450575353\n"
     ]
    }
   ],
   "source": [
    "p_value = 1 - norm.sf(z)\n",
    "print(p_value)"
   ]
  },
  {
   "cell_type": "markdown",
   "id": "c417b2f0",
   "metadata": {},
   "source": [
    "# Testes Bicaudais"
   ]
  },
  {
   "cell_type": "markdown",
   "id": "35790274",
   "metadata": {},
   "source": [
    "### EX 001:"
   ]
  },
  {
   "cell_type": "markdown",
   "id": "ee46ffe2",
   "metadata": {},
   "source": [
    "Considere o seguinte teste de hipóteses.\n",
    "\n",
    "    H0 µ = 8 \n",
    "    H1 µ ≠ 8\n",
    "    \n",
    "Uma amostra de 36 fornece uma média da amostra de 11 e desvio-padrão da amostra de 2.5.\n",
    "Com α = 0.05, qual é regra de rejeição?\n",
    "\n",
    "Calcule o valor da estatística do teste Z. Qual é a sua conclusão?"
   ]
  },
  {
   "cell_type": "code",
   "execution_count": 26,
   "id": "396a45f3",
   "metadata": {},
   "outputs": [
    {
     "name": "stdout",
     "output_type": "stream",
     "text": [
      "7.199999999999999\n"
     ]
    }
   ],
   "source": [
    "# z_critico = ± 1.96\n",
    "\n",
    "z = (11-8)/(2.5/sqrt(36))\n",
    "print(z)"
   ]
  },
  {
   "cell_type": "markdown",
   "id": "35a9a088",
   "metadata": {},
   "source": [
    "### EX 002"
   ]
  },
  {
   "cell_type": "markdown",
   "id": "8fa85a67",
   "metadata": {},
   "source": [
    "Considere o seguinte teste de hipóteses.\n",
    "\n",
    "    H0 µ = 15 \n",
    "    H1 µ ≠ 15\n",
    "    \n",
    "Uma amostra de 50 fornece uma média da amostra de 14.2 e desvio-padrão da amostra de 5."
   ]
  },
  {
   "cell_type": "markdown",
   "id": "7b983f73",
   "metadata": {},
   "source": [
    "##### Letra A: Com α = 0.02, qual é a regra de rejeição?"
   ]
  },
  {
   "cell_type": "code",
   "execution_count": 27,
   "id": "0f6289f0",
   "metadata": {},
   "outputs": [
    {
     "name": "stdout",
     "output_type": "stream",
     "text": [
      "O valor do Z crítico será 2.33\n"
     ]
    }
   ],
   "source": [
    "α = 0.02/2\n",
    "print(f'O valor do Z crítico será {round(norm.ppf( 1 - (0.02/2)),2)}')"
   ]
  },
  {
   "cell_type": "markdown",
   "id": "ffd71ea0",
   "metadata": {},
   "source": [
    "##### Letra B: Calcule o valor da estatística do teste Z."
   ]
  },
  {
   "cell_type": "code",
   "execution_count": 28,
   "id": "7ae2f002",
   "metadata": {},
   "outputs": [
    {
     "name": "stdout",
     "output_type": "stream",
     "text": [
      "-1.1313708498984771\n"
     ]
    }
   ],
   "source": [
    "z = (14.2-15)/(5/sqrt(50))\n",
    "print(z)"
   ]
  },
  {
   "cell_type": "markdown",
   "id": "f94563d5",
   "metadata": {},
   "source": [
    "##### Letra C: Qual é o valor p?"
   ]
  },
  {
   "cell_type": "code",
   "execution_count": 29,
   "id": "703e4799",
   "metadata": {},
   "outputs": [
    {
     "name": "stdout",
     "output_type": "stream",
     "text": [
      "0.25789903529233893\n"
     ]
    }
   ],
   "source": [
    "p_value = 2 * (1 - norm.sf(z))\n",
    "print(p_value)"
   ]
  },
  {
   "cell_type": "markdown",
   "id": "77c873f3",
   "metadata": {},
   "source": [
    "##### Letra D: Qual é a sua conclusão?"
   ]
  },
  {
   "cell_type": "markdown",
   "id": "38b379fc",
   "metadata": {},
   "source": [
    "Não rejeitar H0"
   ]
  },
  {
   "cell_type": "markdown",
   "id": "072422d5",
   "metadata": {},
   "source": [
    "### EX 003"
   ]
  },
  {
   "cell_type": "markdown",
   "id": "9dbdd213",
   "metadata": {},
   "source": [
    "Considere os seguintes testes de hipóteses.\n",
    "\n",
    "    H0 µ = 25 \n",
    "    H1 µ ≠ 25\n",
    "\n",
    "Uma amostra de 80 é usada e o desvio-padrão da papulação é 10. Use α = 0.05. Calcule o valor da estátistica do teste Z e especifique sua conclusão para cada um dos seguintes resultados da amostra."
   ]
  },
  {
   "cell_type": "code",
   "execution_count": 30,
   "id": "654a9465",
   "metadata": {},
   "outputs": [
    {
     "name": "stdout",
     "output_type": "stream",
     "text": [
      "± 1.96\n"
     ]
    }
   ],
   "source": [
    "z_critico = norm.ppf( 1 - (0.05/2))\n",
    "print(f'±',round(z_critico,2))"
   ]
  },
  {
   "cell_type": "markdown",
   "id": "f556b7bb",
   "metadata": {},
   "source": [
    "##### Letra A: X = 22.0"
   ]
  },
  {
   "cell_type": "code",
   "execution_count": 31,
   "id": "00b38906",
   "metadata": {},
   "outputs": [
    {
     "name": "stdout",
     "output_type": "stream",
     "text": [
      "-2.68\n"
     ]
    }
   ],
   "source": [
    "z = (22-25)/(10/sqrt(80))\n",
    "print(round(z,2))"
   ]
  },
  {
   "cell_type": "markdown",
   "id": "f7646f75",
   "metadata": {},
   "source": [
    "Rejeitar H0"
   ]
  },
  {
   "cell_type": "markdown",
   "id": "0ff243c4",
   "metadata": {},
   "source": [
    "##### Letra B: X = 27.0"
   ]
  },
  {
   "cell_type": "code",
   "execution_count": 32,
   "id": "decc8e98",
   "metadata": {},
   "outputs": [
    {
     "name": "stdout",
     "output_type": "stream",
     "text": [
      "1.79\n"
     ]
    }
   ],
   "source": [
    "z = (27-25)/(10/sqrt(80))\n",
    "print(round(z,2))"
   ]
  },
  {
   "cell_type": "markdown",
   "id": "e072ef1b",
   "metadata": {},
   "source": [
    "Aceitar Ho"
   ]
  },
  {
   "cell_type": "markdown",
   "id": "8b862078",
   "metadata": {},
   "source": [
    "##### Letra C: X = 23.5"
   ]
  },
  {
   "cell_type": "code",
   "execution_count": 33,
   "id": "4ffca286",
   "metadata": {},
   "outputs": [
    {
     "name": "stdout",
     "output_type": "stream",
     "text": [
      "-1.34\n"
     ]
    }
   ],
   "source": [
    "z = (23.5-25)/(10/sqrt(80))\n",
    "print(round(z,2))"
   ]
  },
  {
   "cell_type": "markdown",
   "id": "89ea2de0",
   "metadata": {},
   "source": [
    "Aceitar H0"
   ]
  },
  {
   "cell_type": "markdown",
   "id": "105f07d2",
   "metadata": {},
   "source": [
    "##### Letra D: X = 28"
   ]
  },
  {
   "cell_type": "code",
   "execution_count": 34,
   "id": "d21589a0",
   "metadata": {},
   "outputs": [
    {
     "name": "stdout",
     "output_type": "stream",
     "text": [
      "2.68\n"
     ]
    }
   ],
   "source": [
    "z = (28-25)/(10/sqrt(80))\n",
    "print(round(z,2))"
   ]
  },
  {
   "cell_type": "markdown",
   "id": "826fbdf6",
   "metadata": {},
   "source": [
    "Rejeitar H0"
   ]
  },
  {
   "cell_type": "markdown",
   "id": "33b837da",
   "metadata": {},
   "source": [
    "### EX 004"
   ]
  },
  {
   "cell_type": "markdown",
   "id": "e6bcd6a3",
   "metadata": {},
   "source": [
    "Considere o seguinte teste de hipóteses\n",
    "\n",
    "    H0 µ = 5 \n",
    "    H1 µ ≠ 5\n",
    "    \n",
    "Considere as seuintes estatísticas do teste. Calcule os correspondentes valores p e especifique suas conclusões baseadas em α = 0.05 "
   ]
  },
  {
   "cell_type": "markdown",
   "id": "0ae3dee2",
   "metadata": {},
   "source": [
    "##### Letra A: Z = 1.80"
   ]
  },
  {
   "cell_type": "code",
   "execution_count": 35,
   "id": "2aad1880",
   "metadata": {},
   "outputs": [
    {
     "name": "stdout",
     "output_type": "stream",
     "text": [
      "0.07186063822585158\n"
     ]
    }
   ],
   "source": [
    "p_value = 2 * (norm.sf(1.80))\n",
    "print(p_value)"
   ]
  },
  {
   "cell_type": "markdown",
   "id": "e86cba21",
   "metadata": {},
   "source": [
    "Aceita H0"
   ]
  },
  {
   "cell_type": "markdown",
   "id": "82612400",
   "metadata": {},
   "source": [
    "##### Letra B: Z = - 0.45"
   ]
  },
  {
   "cell_type": "code",
   "execution_count": 36,
   "id": "c34e24ff",
   "metadata": {},
   "outputs": [
    {
     "name": "stdout",
     "output_type": "stream",
     "text": [
      "0.6527104405758399\n"
     ]
    }
   ],
   "source": [
    "z = -0.45\n",
    "p_value = 2*(1 - norm.sf(z))\n",
    "print(p_value)"
   ]
  },
  {
   "cell_type": "markdown",
   "id": "e676ba3a",
   "metadata": {},
   "source": [
    "Aceita H0"
   ]
  },
  {
   "cell_type": "markdown",
   "id": "8c740cb5",
   "metadata": {},
   "source": [
    "##### Letra C: Z = 2.05"
   ]
  },
  {
   "cell_type": "code",
   "execution_count": 37,
   "id": "cad367de",
   "metadata": {},
   "outputs": [
    {
     "name": "stdout",
     "output_type": "stream",
     "text": [
      "0.04036443081140879\n"
     ]
    }
   ],
   "source": [
    "z = 2.05\n",
    "p_value = 2 * (norm.sf(z))\n",
    "print(p_value)"
   ]
  },
  {
   "cell_type": "markdown",
   "id": "9a1c1729",
   "metadata": {},
   "source": [
    "Rejeita H0"
   ]
  },
  {
   "cell_type": "markdown",
   "id": "367cc6a1",
   "metadata": {},
   "source": [
    "##### Letra D: Z = -3.50"
   ]
  },
  {
   "cell_type": "code",
   "execution_count": 38,
   "id": "c1d24015",
   "metadata": {},
   "outputs": [
    {
     "name": "stdout",
     "output_type": "stream",
     "text": [
      "0.0004652581580710802\n"
     ]
    }
   ],
   "source": [
    "z = -3.50\n",
    "p_value = 2 * (1 - norm.sf(z))\n",
    "\n",
    "print(p_value)"
   ]
  },
  {
   "cell_type": "markdown",
   "id": "e9432fdd",
   "metadata": {},
   "source": [
    "Rejeita H0"
   ]
  },
  {
   "cell_type": "markdown",
   "id": "152edc73",
   "metadata": {},
   "source": [
    "##### Letra E: Z = -1.00"
   ]
  },
  {
   "cell_type": "code",
   "execution_count": 39,
   "id": "2a047ee7",
   "metadata": {},
   "outputs": [
    {
     "name": "stdout",
     "output_type": "stream",
     "text": [
      "0.31731050786291415\n"
     ]
    }
   ],
   "source": [
    "z = -1\n",
    "p_value = 2 * (1 - norm.sf(z))\n",
    "\n",
    "print(p_value)"
   ]
  },
  {
   "cell_type": "markdown",
   "id": "0cc693db",
   "metadata": {},
   "source": [
    "Aceita H0"
   ]
  },
  {
   "cell_type": "markdown",
   "id": "603eae36",
   "metadata": {},
   "source": [
    "# Testes Bicaudais Aplicações"
   ]
  },
  {
   "cell_type": "markdown",
   "id": "df68ccc6",
   "metadata": {},
   "source": [
    "### EX:001"
   ]
  },
  {
   "cell_type": "markdown",
   "id": "0010139e",
   "metadata": {},
   "source": [
    "O departamento de Análise Econômica relatou que a renda média anual de um residente da Carolina do Norte é de 18688 dólares. Um pesquisador do estado quer testar:\n",
    "    \n",
    "    H0 µ = 18.688 \n",
    "    H1 µ ≠ 18.688\n",
    "\n",
    "Onde µ é a renda média anual de um residente do estado."
   ]
  },
  {
   "cell_type": "markdown",
   "id": "f8c03072",
   "metadata": {},
   "source": [
    "##### Letra A: Qual é a conclusão apropriada se uma amostra de 400 residentes do estado repesenta uma renda média anual de 16860 dólares  eum desvio-padrão da amostra de 14624 dólares? Use um nível de significâncai de 0.05"
   ]
  },
  {
   "cell_type": "code",
   "execution_count": 40,
   "id": "b0bc9857",
   "metadata": {},
   "outputs": [
    {
     "name": "stdout",
     "output_type": "stream",
     "text": [
      "X crítico de ± 1.959963984540054\n",
      "-2.5\n"
     ]
    }
   ],
   "source": [
    "z_critico = norm.ppf( 1 - (0.05/2))\n",
    "print(f'X crítico de ± {z_critico}')\n",
    "\n",
    "z = (16860 - 18688)/(14624/sqrt(400))\n",
    "print(z)"
   ]
  },
  {
   "cell_type": "markdown",
   "id": "49ef9f15",
   "metadata": {},
   "source": [
    "Rejeitaremos H0, média salarial diferente de 18688"
   ]
  },
  {
   "cell_type": "markdown",
   "id": "118c78a4",
   "metadata": {},
   "source": [
    "##### Letra B: Qual é o Valor P?"
   ]
  },
  {
   "cell_type": "code",
   "execution_count": 41,
   "id": "01eab9a6",
   "metadata": {},
   "outputs": [
    {
     "name": "stdout",
     "output_type": "stream",
     "text": [
      "0.012419330651552318\n"
     ]
    }
   ],
   "source": [
    "p_value = 2 * (1 - norm.sf(z))\n",
    "print(p_value)"
   ]
  },
  {
   "cell_type": "markdown",
   "id": "1457175c",
   "metadata": {},
   "source": [
    "### EX: 002"
   ]
  },
  {
   "cell_type": "markdown",
   "id": "090bf9e2",
   "metadata": {},
   "source": [
    "A CNN e a ActMedia possuem um canal de televisão que apresenta notícias, reportagens e anúncios e foi direcionado para os indivíduos que esperam nas flias de caixa de mercearias. os programas de televisão foram concebidos com um ciclo de oito minutos da hipótese de que o tempo médio da população que um comprador fica na fila de um caixa de uma mercearia é de oito minutos. Uma amostra de 120 compradores em uma grande mercearia é de oito minuto. Uma amostra de 120 compradores em uma grande mercearia mostrou que o tempo médio de espera da amostra é de 7.5 minutos com um desvio-padrão da amostra de 3.2."
   ]
  },
  {
   "cell_type": "markdown",
   "id": "08e27d86",
   "metadata": {},
   "source": [
    "##### Letra A: Teste:\n",
    "\n",
    "    H0 µ = 8\n",
    "    H1 µ ≠ 8\n",
    "\n",
    "Use um nível de significância de 0.05. O tempo médio de espera na loja da mercearia difere da hipótese do tempo de espera de 8 minutos?\n",
    "    "
   ]
  },
  {
   "cell_type": "code",
   "execution_count": 42,
   "id": "1393b0b1",
   "metadata": {},
   "outputs": [
    {
     "name": "stdout",
     "output_type": "stream",
     "text": [
      "X crítico de ± 1.96\n",
      " O Valor de Z é -1.71\n"
     ]
    }
   ],
   "source": [
    "z_critico = norm.ppf( 1 - (0.05/2))\n",
    "print(f'X crítico de ± {round(z_critico,2)}')\n",
    "\n",
    "z = (7.5 - 8)/(3.2/sqrt(120))\n",
    "print(f' O Valor de Z é {round(z,2)}')"
   ]
  },
  {
   "cell_type": "code",
   "execution_count": 49,
   "id": "53d56137",
   "metadata": {},
   "outputs": [
    {
     "data": {
      "image/png": "[encoded data removed]",
      "text/plain": [
       "<Figure size 1080x360 with 1 Axes>"
      ]
     },
     "metadata": {
      "needs_background": "light"
     },
     "output_type": "display_data"
    }
   ],
   "source": [
    "mu = 0\n",
    "sigma = 6\n",
    "n = 120\n",
    "Ns = 10000\n",
    "Xm = []\n",
    "for s in range(1,Ns):\n",
    "    x = np.random.normal(mu,sigma,n) # Sorteia uma amostra de tamanho n\n",
    "    Xm.append(np.mean(x))\n",
    "\n",
    "\n",
    "\n",
    "plt.figure(figsize = (15,5))\n",
    "a = plt.hist(x = Xm,bins = 500, color = '#0504aa', alpha = 0.7, rwidth=1,density = True)\n",
    "plt.axvline(x = -z_critico, color = 'red',linestyle = '--',label = '+ Z Crítico')\n",
    "plt.axvline(x = z_critico, color = 'red',linestyle = '--',label = '- Z Crítico')\n",
    "plt.axvline(x = z, color = 'green',linestyle = '--',label = 'Z')\n",
    "plt.xlabel('DP',fontsize = 20)\n",
    "plt.ylabel('Z',fontsize = 20)\n",
    "plt.legend()\n",
    "plt.show(True)"
   ]
  },
  {
   "cell_type": "markdown",
   "id": "c73c3978",
   "metadata": {},
   "source": [
    "##### Letra B: Qual o valor p para este teste?"
   ]
  },
  {
   "cell_type": "code",
   "execution_count": 45,
   "id": "e47f27a0",
   "metadata": {},
   "outputs": [
    {
     "name": "stdout",
     "output_type": "stream",
     "text": [
      "0.08696432431499446\n"
     ]
    }
   ],
   "source": [
    "p_value = 2 * (1 - norm.sf(z))\n",
    "print(p_value)"
   ]
  },
  {
   "cell_type": "markdown",
   "id": "430cb46e",
   "metadata": {},
   "source": [
    "### EX 003:"
   ]
  },
  {
   "cell_type": "markdown",
   "id": "db747080",
   "metadata": {},
   "source": [
    "Um alinha de produção opera com um peso médio de enchimento de 16 ml por recipiente. O sobre-enchimento e o subenchimento dão problemas sérios e a linha de produção deve ser paralisada se qualquer um ds dois ocorrer. De dados passados sabe-se que σ = 0.8 m. Um inspetor de controle da qualidade amostra 30 itens a cada duas horas e nesse momento toma a decisão de paralisar a linha de produção para calibragem ou não."
   ]
  },
  {
   "cell_type": "markdown",
   "id": "0612c083",
   "metadata": {},
   "source": [
    "##### Letra A: Com um nível de significancia de 0.05, qual é a regra de rejeição?"
   ]
  },
  {
   "cell_type": "code",
   "execution_count": 60,
   "id": "beae9308",
   "metadata": {},
   "outputs": [
    {
     "name": "stdout",
     "output_type": "stream",
     "text": [
      "Valor do Z crítico é ± 1.96\n"
     ]
    }
   ],
   "source": [
    "z_critico = norm.ppf( 1 - (0.05/2))\n",
    "print(f'Valor do Z crítico é ± {round(z_critico,2)}')"
   ]
  },
  {
   "cell_type": "markdown",
   "id": "1888d882",
   "metadata": {},
   "source": [
    "##### Letra B: Se uma média de amostra de =16.32 ml for encontrada, que atitude você recomendaria?"
   ]
  },
  {
   "cell_type": "code",
   "execution_count": 62,
   "id": "8e68127e",
   "metadata": {},
   "outputs": [
    {
     "name": "stdout",
     "output_type": "stream",
     "text": [
      "2.19\n"
     ]
    }
   ],
   "source": [
    "z = (16.32-16)/((0.8)/sqrt(30))\n",
    "print(round(z,2))"
   ]
  },
  {
   "cell_type": "markdown",
   "id": "9154cb03",
   "metadata": {},
   "source": [
    "Eu pediria para fazerem uma verificação já que supostamente estariam vendendo mais do que deveriam "
   ]
  },
  {
   "cell_type": "markdown",
   "id": "914ca30b",
   "metadata": {},
   "source": [
    "##### Letra C: Se a média fosse de 15.82 ml que atitude você tomaria?"
   ]
  },
  {
   "cell_type": "code",
   "execution_count": 64,
   "id": "da7768f2",
   "metadata": {},
   "outputs": [
    {
     "name": "stdout",
     "output_type": "stream",
     "text": [
      "-1.23\n"
     ]
    }
   ],
   "source": [
    "z = (15.82-16)/((0.8)/(sqrt(30)))\n",
    "print(round(z,2))"
   ]
  },
  {
   "cell_type": "markdown",
   "id": "1e30da92",
   "metadata": {},
   "source": [
    "Eu diria para manterem a produção ao nível em que está já que a média se encontra dentro do Intervalo de confiança"
   ]
  },
  {
   "cell_type": "markdown",
   "id": "44fbe257",
   "metadata": {},
   "source": [
    "##### Letra D: Quaç é o valor p para o item (b) e (c) ?"
   ]
  },
  {
   "cell_type": "code",
   "execution_count": 85,
   "id": "99e18726",
   "metadata": {},
   "outputs": [
    {
     "name": "stdout",
     "output_type": "stream",
     "text": [
      "Valor p para 2.19, 0.0143\n",
      "Valor p para -1.23, 0.8907\n"
     ]
    }
   ],
   "source": [
    "b = norm.sf(2.19)\n",
    "print(f'Valor p para 2.19, {round(b,4)}')\n",
    "c = norm.sf(-1.23)\n",
    "print(f'Valor p para -1.23, {round(c,4)}')"
   ]
  },
  {
   "cell_type": "markdown",
   "id": "126cb834",
   "metadata": {},
   "source": [
    "### EX 004:"
   ]
  },
  {
   "cell_type": "markdown",
   "id": "acd0f949",
   "metadata": {},
   "source": [
    "Uma linha de montagem de automóveis opera a um tempo médio de conclusão de 2.2 minutos. Devido ao efeito do tempo de conclusão tanto na operação de montagem precedente como na subsequente, é importante manter o tempo médio de conclusão em 2.2 minutos. Uma amostra aleatória de 45 montagens mostra um tempo médio de conclusão da amostra de 2.39 minutos, com um desvio-padrão da amostra de 0.20 minutos. Use um nível de significãncia de 0.02 e teste se a operação está cumprindo seu tempo médio de conclusão de 2.2 minutos."
   ]
  },
  {
   "cell_type": "markdown",
   "id": "417407aa",
   "metadata": {},
   "source": [
    "    H0 µ = 2.2\n",
    "    H1 µ ≠ 2.2"
   ]
  },
  {
   "cell_type": "code",
   "execution_count": 72,
   "id": "2ae8ba80",
   "metadata": {},
   "outputs": [
    {
     "name": "stdout",
     "output_type": "stream",
     "text": [
      "X crítico de ± 2.33\n"
     ]
    }
   ],
   "source": [
    "z_critico = norm.ppf( 1 - (0.02/2))\n",
    "print(f'X crítico de ± {round(z_critico,2)}')"
   ]
  },
  {
   "cell_type": "code",
   "execution_count": 84,
   "id": "c5e93cd8",
   "metadata": {},
   "outputs": [
    {
     "name": "stdout",
     "output_type": "stream",
     "text": [
      "6.37\n"
     ]
    }
   ],
   "source": [
    "z = (2.39-2.2)/(0.20/sqrt(45))\n",
    "print(round(z,2))"
   ]
  },
  {
   "cell_type": "markdown",
   "id": "526bc60a",
   "metadata": {},
   "source": [
    "A operação está sendo cumprida em um tempo doferente de 2.2 minutos"
   ]
  }
 ],
 "metadata": {
  "kernelspec": {
   "display_name": "Python 3 (ipykernel)",
   "language": "python",
   "name": "python3"
  },
  "language_info": {
   "codemirror_mode": {
    "name": "ipython",
    "version": 3
   },
   "file_extension": ".py",
   "mimetype": "text/x-python",
   "name": "python",
   "nbconvert_exporter": "python",
   "pygments_lexer": "ipython3",
   "version": "3.9.7"
  }
 },
 "nbformat": 4,
 "nbformat_minor": 5
}
